{
 "cells": [
  {
   "cell_type": "code",
   "execution_count": null,
   "metadata": {},
   "outputs": [],
   "source": [
    "import requests\n",
    "\n",
    "def test_transcription(endpoint, file_path, api_key):\n",
    "    url = f'http://localhost:8000{endpoint}'\n",
    "    files = {'file': open(file_path, 'rb')}\n",
    "    headers = {'x-api-key': api_key}\n",
    "\n",
    "    response = requests.post(url, files=files, headers=headers)\n",
    "    return response.json()\n",
    "\n",
    "# Replace 'your_file_path.mp3' with the path to your audio file\n",
    "file_path_eng = 'southpark-the-coon.mp3'\n",
    "file_path_id = 'sounds/02 At The Campus.mp3'\n",
    "api_key = '00jhJ_YAsU90J3hpG-vNI1I9QBm_Voefj8NMcR-OEY8'\n",
    "\n",
    "# Test English transcription\n",
    "print(\"Testing English transcription:\")\n",
    "eng_response = test_transcription('/eng/transcribe', file_path, api_key)\n",
    "print(eng_response)\n",
    "\n",
    "# Test Indonesian transcription\n",
    "print(\"\\nTesting Indonesian transcription:\")\n",
    "indo_response = test_transcription('/indo/transcribe', file_path, api_key)\n",
    "print(indo_response)\n"
   ]
  }
 ],
 "metadata": {
  "kernelspec": {
   "display_name": "Python 3",
   "language": "python",
   "name": "python3"
  },
  "language_info": {
   "name": "python",
   "version": "3.8.19"
  },
  "orig_nbformat": 4
 },
 "nbformat": 4,
 "nbformat_minor": 2
}
