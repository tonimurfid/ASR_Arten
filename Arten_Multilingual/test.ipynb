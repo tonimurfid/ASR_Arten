{
 "cells": [
  {
   "cell_type": "code",
   "execution_count": 8,
   "metadata": {},
   "outputs": [
    {
     "name": "stdout",
     "output_type": "stream",
     "text": [
      "Collecting fastapi==0.95.2 (from -r requirement.txt (line 1))Note: you may need to restart the kernel to use updated packages.\n"
     ]
    },
    {
     "name": "stderr",
     "output_type": "stream",
     "text": [
      "WARNING: Ignoring invalid distribution - (d:\\anaconda\\envs\\arten\\lib\\site-packages)\n",
      "WARNING: Ignoring invalid distribution -okenizers (d:\\anaconda\\envs\\arten\\lib\\site-packages)\n",
      "  error: subprocess-exited-with-error\n",
      "  \n",
      "  × python setup.py egg_info did not run successfully.\n",
      "  │ exit code: 1\n",
      "  ╰─> [76 lines of output]\n",
      "      d:\\Anaconda\\envs\\Arten\\lib\\site-packages\\setuptools\\__init__.py:81: _DeprecatedInstaller: setuptools.installer and fetch_build_eggs are deprecated.\n",
      "      !!\n",
      "      \n",
      "              ********************************************************************************\n",
      "              Requirements should be satisfied by a PEP 517 installer.\n",
      "              If you are using pip, you can try `pip install --use-pep517`.\n",
      "              ********************************************************************************\n",
      "      \n",
      "      !!\n",
      "        dist.fetch_build_eggs(dist.setup_requires)\n",
      "        error: subprocess-exited-with-error\n",
      "      \n",
      "        × python setup.py egg_info did not run successfully.\n",
      "        │ exit code: 1\n",
      "        ╰─> [16 lines of output]\n",
      "            Traceback (most recent call last):\n",
      "              File \"<string>\", line 2, in <module>\n",
      "              File \"<pip-setuptools-caller>\", line 14, in <module>\n",
      "              File \"C:\\Users\\Fatoni Murfid S\\AppData\\Local\\Temp\\pip-wheel-2q1g7v8j\\distribute_27b91e5be539467386576b72bffbb244\\setuptools\\__init__.py\", line 2, in <module>\n",
      "                from setuptools.extension import Extension, Library\n",
      "              File \"C:\\Users\\Fatoni Murfid S\\AppData\\Local\\Temp\\pip-wheel-2q1g7v8j\\distribute_27b91e5be539467386576b72bffbb244\\setuptools\\extension.py\", line 5, in <module>\n",
      "                from setuptools.dist import _get_unpatched\n",
      "              File \"C:\\Users\\Fatoni Murfid S\\AppData\\Local\\Temp\\pip-wheel-2q1g7v8j\\distribute_27b91e5be539467386576b72bffbb244\\setuptools\\dist.py\", line 7, in <module>\n",
      "                from setuptools.command.install import install\n",
      "              File \"C:\\Users\\Fatoni Murfid S\\AppData\\Local\\Temp\\pip-wheel-2q1g7v8j\\distribute_27b91e5be539467386576b72bffbb244\\setuptools\\command\\__init__.py\", line 8, in <module>\n",
      "                from setuptools.command import install_scripts\n",
      "              File \"C:\\Users\\Fatoni Murfid S\\AppData\\Local\\Temp\\pip-wheel-2q1g7v8j\\distribute_27b91e5be539467386576b72bffbb244\\setuptools\\command\\install_scripts.py\", line 3, in <module>\n",
      "                from pkg_resources import Distribution, PathMetadata, ensure_directory\n",
      "              File \"C:\\Users\\Fatoni Murfid S\\AppData\\Local\\Temp\\pip-wheel-2q1g7v8j\\distribute_27b91e5be539467386576b72bffbb244\\pkg_resources.py\", line 1518, in <module>\n",
      "                register_loader_type(importlib_bootstrap.SourceFileLoader, DefaultProvider)\n",
      "            AttributeError: module 'importlib._bootstrap' has no attribute 'SourceFileLoader'\n",
      "            [end of output]\n",
      "      \n",
      "        note: This error originates from a subprocess, and is likely not a problem with pip.\n",
      "      error: metadata-generation-failed\n",
      "      \n",
      "      × Encountered error while generating package metadata.\n",
      "      ╰─> See above for output.\n",
      "      \n",
      "      note: This is an issue with the package mentioned above, not pip.\n",
      "      hint: See above for details.\n",
      "      Traceback (most recent call last):\n",
      "        File \"d:\\Anaconda\\envs\\Arten\\lib\\site-packages\\setuptools\\installer.py\", line 101, in _fetch_build_egg_no_warn\n",
      "          subprocess.check_call(cmd)\n",
      "        File \"d:\\Anaconda\\envs\\Arten\\lib\\subprocess.py\", line 364, in check_call\n",
      "          raise CalledProcessError(retcode, cmd)\n",
      "      subprocess.CalledProcessError: Command '['d:\\\\Anaconda\\\\envs\\\\Arten\\\\python.exe', '-m', 'pip', '--disable-pip-version-check', 'wheel', '--no-deps', '-w', 'C:\\\\Users\\\\FATONI~1\\\\AppData\\\\Local\\\\Temp\\\\tmp4b_gt25g', '--quiet', 'distribute']' returned non-zero exit status 1.\n",
      "      \n",
      "      The above exception was the direct cause of the following exception:\n",
      "      \n",
      "      Traceback (most recent call last):\n",
      "        File \"<string>\", line 2, in <module>\n",
      "        File \"<pip-setuptools-caller>\", line 34, in <module>\n",
      "        File \"C:\\Users\\Fatoni Murfid S\\AppData\\Local\\Temp\\pip-install-0zo5rfav\\dotenv_dbb6ed7d7f0e4f3b88a37cfdb9f8adc8\\setup.py\", line 13, in <module>\n",
      "          setup(name='dotenv',\n",
      "        File \"d:\\Anaconda\\envs\\Arten\\lib\\site-packages\\setuptools\\__init__.py\", line 103, in setup\n",
      "          _install_setup_requires(attrs)\n",
      "        File \"d:\\Anaconda\\envs\\Arten\\lib\\site-packages\\setuptools\\__init__.py\", line 76, in _install_setup_requires\n",
      "          _fetch_build_eggs(dist)\n",
      "        File \"d:\\Anaconda\\envs\\Arten\\lib\\site-packages\\setuptools\\__init__.py\", line 81, in _fetch_build_eggs\n",
      "          dist.fetch_build_eggs(dist.setup_requires)\n",
      "        File \"d:\\Anaconda\\envs\\Arten\\lib\\site-packages\\setuptools\\dist.py\", line 640, in fetch_build_eggs\n",
      "          return _fetch_build_eggs(self, requires)\n",
      "        File \"d:\\Anaconda\\envs\\Arten\\lib\\site-packages\\setuptools\\installer.py\", line 38, in _fetch_build_eggs\n",
      "          resolved_dists = pkg_resources.working_set.resolve(\n",
      "        File \"d:\\Anaconda\\envs\\Arten\\lib\\site-packages\\pkg_resources\\__init__.py\", line 798, in resolve\n",
      "          dist = self._resolve_dist(\n",
      "        File \"d:\\Anaconda\\envs\\Arten\\lib\\site-packages\\pkg_resources\\__init__.py\", line 834, in _resolve_dist\n",
      "          dist = best[req.key] = env.best_match(\n",
      "        File \"d:\\Anaconda\\envs\\Arten\\lib\\site-packages\\pkg_resources\\__init__.py\", line 1104, in best_match\n",
      "          return self.obtain(req, installer)\n",
      "        File \"d:\\Anaconda\\envs\\Arten\\lib\\site-packages\\pkg_resources\\__init__.py\", line 1115, in obtain\n",
      "          return installer(requirement) if installer else None\n",
      "        File \"d:\\Anaconda\\envs\\Arten\\lib\\site-packages\\setuptools\\installer.py\", line 103, in _fetch_build_egg_no_warn\n",
      "          raise DistutilsError(str(e)) from e\n",
      "      distutils.errors.DistutilsError: Command '['d:\\\\Anaconda\\\\envs\\\\Arten\\\\python.exe', '-m', 'pip', '--disable-pip-version-check', 'wheel', '--no-deps', '-w', 'C:\\\\Users\\\\FATONI~1\\\\AppData\\\\Local\\\\Temp\\\\tmp4b_gt25g', '--quiet', 'distribute']' returned non-zero exit status 1.\n",
      "      [end of output]\n",
      "  \n",
      "  note: This error originates from a subprocess, and is likely not a problem with pip.\n",
      "error: metadata-generation-failed\n",
      "\n",
      "× Encountered error while generating package metadata.\n",
      "╰─> See above for output.\n",
      "\n",
      "note: This is an issue with the package mentioned above, not pip.\n",
      "hint: See above for details.\n"
     ]
    },
    {
     "name": "stdout",
     "output_type": "stream",
     "text": [
      "\n",
      "  Using cached fastapi-0.95.2-py3-none-any.whl.metadata (24 kB)\n",
      "Collecting uvicorn==0.22.0 (from -r requirement.txt (line 2))\n",
      "  Using cached uvicorn-0.22.0-py3-none-any.whl.metadata (6.3 kB)\n",
      "Requirement already satisfied: torch==2.4.0 in d:\\anaconda\\envs\\arten\\lib\\site-packages (from -r requirement.txt (line 3)) (2.4.0)\n",
      "Requirement already satisfied: transformers in d:\\anaconda\\envs\\arten\\lib\\site-packages (from -r requirement.txt (line 4)) (4.43.3)\n",
      "Requirement already satisfied: librosa in d:\\anaconda\\envs\\arten\\lib\\site-packages (from -r requirement.txt (line 5)) (0.10.2.post1)\n",
      "Requirement already satisfied: requests in d:\\anaconda\\envs\\arten\\lib\\site-packages (from -r requirement.txt (line 6)) (2.32.3)\n",
      "Collecting dotenv (from -r requirement.txt (line 7))\n",
      "  Using cached dotenv-0.0.5.tar.gz (2.4 kB)\n",
      "  Preparing metadata (setup.py): started\n",
      "  Preparing metadata (setup.py): finished with status 'error'\n"
     ]
    }
   ],
   "source": [
    "%pip install -r requirement.txt"
   ]
  },
  {
   "cell_type": "code",
   "execution_count": 12,
   "metadata": {},
   "outputs": [
    {
     "name": "stdout",
     "output_type": "stream",
     "text": [
      "Testing English transcription:\n",
      "{'transcription': ' Pelajaran 2 di campus. Lesson 2 at the campus. Sari lair di Jakarta. Keluarga Sari tinggal di pasar minggu. Sari pergi ke campus Universitas Indonesia di depok. Dia ikut ayahnya. Ayah Sari punya mobil. Di campus Sari belajar hubungan internasional. Sore dia pulang dari campus. Dikantin Sari minum Pepsi. Di rumah dia minum teh. Adeknya suka minum Sjeruk. Kakaknya suka minum Bir bintang. Mereka suka makan nasi goreng. Sari makan siang di campus. Di campus dia makan mie goreng.', 'stats': {'total_processing_time': 24.171632528305054, 'words_per_second': 19.86, 'file_size_in_bytes': 1418362}, 'filename': '02 At The Campus.mp3'}\n",
      "\n",
      "Testing Indonesian transcription:\n",
      "{'transcription': 'Halo, perkenalkan nama saya adalah Budi. Saya bersekolah di tadika Anjai. Yoga adalah seorang sepul.', 'stats': {'total_processing_time': 8.66198205947876, 'words_per_second': 11.54, 'file_size_in_bytes': 172365}, 'filename': 'audio2.mp3'}\n"
     ]
    }
   ],
   "source": [
    "import requests\n",
    "import os\n",
    "from dotenv import load_dotenv\n",
    "\n",
    "# Load environment variables from .env file\n",
    "load_dotenv('../API.env')\n",
    "\n",
    "def test_transcription(endpoint, file_path, api_key):\n",
    "    url = f'http://localhost:8000{endpoint}'\n",
    "    files = {'file': open(file_path, 'rb')}\n",
    "    headers = {'x-api-key': api_key}\n",
    "\n",
    "    response = requests.post(url, files=files, headers=headers)\n",
    "    return response.json()\n",
    "\n",
    "# Replace 'your_file_path.mp3' with the path to your audio file\n",
    "file_path_eng = 'sounds/02 At The Campus.mp3'\n",
    "file_path_id = 'sounds/audio2.mp3'\n",
    "api_key = os.getenv('API_KEY')\n",
    "\n",
    "# Test English transcription\n",
    "print(\"Testing English transcription:\")\n",
    "eng_response = test_transcription('/eng/transcribe', file_path_eng, api_key)\n",
    "print(eng_response)\n",
    "\n",
    "# Test Indonesian transcription\n",
    "print(\"\\nTesting Indonesian transcription:\")\n",
    "indo_response = test_transcription('/id/transcribe', file_path_id, api_key)\n",
    "print(indo_response)\n"
   ]
  },
  {
   "cell_type": "code",
   "execution_count": 10,
   "metadata": {},
   "outputs": [
    {
     "name": "stdout",
     "output_type": "stream",
     "text": [
      "00jhJ_YAsU90J3hpG-vNI1I9QBm_Voefj8NMcR-OEY8\n"
     ]
    }
   ],
   "source": [
    "from dotenv import load_dotenv\n",
    "\n",
    "# Load environment variables from .env file\n",
    "load_dotenv('../API.env')\n",
    "api_key = os.getenv('API_KEY')\n",
    "print(api_key)"
   ]
  }
 ],
 "metadata": {
  "kernelspec": {
   "display_name": "Python 3",
   "language": "python",
   "name": "python3"
  },
  "language_info": {
   "codemirror_mode": {
    "name": "ipython",
    "version": 3
   },
   "file_extension": ".py",
   "mimetype": "text/x-python",
   "name": "python",
   "nbconvert_exporter": "python",
   "pygments_lexer": "ipython3",
   "version": "3.8.19"
  },
  "orig_nbformat": 4
 },
 "nbformat": 4,
 "nbformat_minor": 2
}
