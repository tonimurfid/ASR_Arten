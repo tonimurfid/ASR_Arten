{
 "cells": [
  {
   "cell_type": "code",
   "execution_count": null,
   "metadata": {},
   "outputs": [],
   "source": [
    "%pip install -r requirement.txt"
   ]
  },
  {
   "cell_type": "code",
   "execution_count": 16,
   "metadata": {},
   "outputs": [
    {
     "name": "stdout",
     "output_type": "stream",
     "text": [
      "Testing English transcription:\n",
      " The city isn't what it used to be. It all happened so fast. Everything went to crap. It's like everyone's sense of morals just disappeared. The bad economy made things worse. The job started drying up. Then the stores had to shut down. Then a black man was elected president. He was supposed to change things. He didn't. As more and more people turned to crime and violence, the town becomes gripped in fear. Dark times. The city needs protection. There is an animal that lives by night, searches through trash cans and cleans out the garbage. To clean the trash can of society, I've chosen to become more than a man. I am the hero this town needs. I am the king. The city needs protection.\n",
      "\n",
      "Testing Indonesian transcription:\n",
      "{'transcription': 'Halo, perkenalkan nama saya adalah Budi. Saya bersekolah di tadika Anjai. Yoga adalah seorang sepul.', 'stats': {'total_processing_time': 3.66998028755188, 'words_per_second': 27.25, 'file_size_in_bytes': 172365}, 'filename': 'audio2.mp3'}\n"
     ]
    }
   ],
   "source": [
    "import requests\n",
    "import os\n",
    "from dotenv import load_dotenv\n",
    "\n",
    "# Load environment variables from .env file\n",
    "load_dotenv('../API.env')\n",
    "\n",
    "def test_transcription(endpoint, file_path, api_key):\n",
    "    url = f'http://localhost:8000{endpoint}'\n",
    "    files = {'file': open(file_path, 'rb')}\n",
    "    headers = {'x-api-key': api_key}\n",
    "\n",
    "    response = requests.post(url, files=files, headers=headers)\n",
    "    return response.json()\n",
    "\n",
    "# Replace 'your_file_path.mp3' with the path to your audio file\n",
    "file_path_eng = 'Arten_Multilingual/sounds/02 At The Campus.mp3'\n",
    "file_path_id = 'Arten_Multilingual/sounds/audio2.mp3'\n",
    "api_key = os.getenv('API_KEY')\n",
    "\n",
    "# Test English transcription\n",
    "print(\"Testing English transcription:\")\n",
    "eng_response = test_transcription('/eng/transcribe', file_path_eng, api_key)\n",
    "print(eng_response)\n",
    "\n",
    "# Test Indonesian transcription\n",
    "print(\"\\nTesting Indonesian transcription:\")\n",
    "indo_response = test_transcription('/id/transcribe', file_path_id, api_key)\n",
    "print(indo_response)\n"
   ]
  }
 ],
 "metadata": {
  "kernelspec": {
   "display_name": "Python 3",
   "language": "python",
   "name": "python3"
  },
  "language_info": {
   "codemirror_mode": {
    "name": "ipython",
    "version": 3
   },
   "file_extension": ".py",
   "mimetype": "text/x-python",
   "name": "python",
   "nbconvert_exporter": "python",
   "pygments_lexer": "ipython3",
   "version": "3.8.19"
  },
  "orig_nbformat": 4
 },
 "nbformat": 4,
 "nbformat_minor": 2
}
