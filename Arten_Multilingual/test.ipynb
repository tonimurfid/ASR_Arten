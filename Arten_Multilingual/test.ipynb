{
 "cells": [
  {
   "cell_type": "code",
   "execution_count": 10,
   "metadata": {},
   "outputs": [
    {
     "name": "stdout",
     "output_type": "stream",
     "text": [
      "Collecting fastapi==0.95.2 (from -r D:/Project_ASR/whisper-service/Arten_Multilingual/requirement.txt (line 1))\n",
      "  Using cached fastapi-0.95.2-py3-none-any.whl.metadata (24 kB)\n",
      "Collecting uvicorn==0.22.0 (from -r D:/Project_ASR/whisper-service/Arten_Multilingual/requirement.txt (line 2))\n",
      "  Using cached uvicorn-0.22.0-py3-none-any.whl.metadata (6.3 kB)\n",
      "Requirement already satisfied: torch==2.4.0 in d:\\anaconda\\envs\\arten\\lib\\site-packages (from -r D:/Project_ASR/whisper-service/Arten_Multilingual/requirement.txt (line 3)) (2.4.0)\n",
      "Requirement already satisfied: transformers in d:\\anaconda\\envs\\arten\\lib\\site-packages (from -r D:/Project_ASR/whisper-service/Arten_Multilingual/requirement.txt (line 4)) (4.41.2)\n",
      "Requirement already satisfied: librosa in d:\\anaconda\\envs\\arten\\lib\\site-packages (from -r D:/Project_ASR/whisper-service/Arten_Multilingual/requirement.txt (line 5)) (0.10.2.post1)\n",
      "Collecting python-dotenv==1.0.0 (from -r D:/Project_ASR/whisper-service/Arten_Multilingual/requirement.txt (line 6))\n",
      "  Using cached python_dotenv-1.0.0-py3-none-any.whl.metadata (21 kB)\n",
      "Note: you may need to restart the kernel to use updated packages.\n"
     ]
    },
    {
     "name": "stderr",
     "output_type": "stream",
     "text": [
      "WARNING: Ignoring invalid distribution -okenizers (d:\\anaconda\\envs\\arten\\lib\\site-packages)\n",
      "ERROR: Could not find a version that satisfies the requirement openai-whisper==2024.7.29 (from versions: 20230117, 20230124, 20230306, 20230307, 20230308, 20230314, 20230918, 20231105, 20231106, 20231117)\n",
      "ERROR: No matching distribution found for openai-whisper==2024.7.29\n"
     ]
    }
   ],
   "source": [
    "%pip install -r D:/Project_ASR/whisper-service/Arten_Multilingual/requirement.txt"
   ]
  },
  {
   "cell_type": "code",
   "execution_count": 16,
   "metadata": {},
   "outputs": [
    {
     "name": "stdout",
     "output_type": "stream",
     "text": [
      "Testing English transcription:\n",
      " The city isn't what it used to be. It all happened so fast. Everything went to crap. It's like everyone's sense of morals just disappeared. The bad economy made things worse. The job started drying up. Then the stores had to shut down. Then a black man was elected president. He was supposed to change things. He didn't. As more and more people turned to crime and violence, the town becomes gripped in fear. Dark times. The city needs protection. There is an animal that lives by night, searches through trash cans and cleans out the garbage. To clean the trash can of society, I've chosen to become more than a man. I am the hero this town needs. I am the king. The city needs protection.\n",
      "\n",
      "Testing Indonesian transcription:\n",
      "{'transcription': 'Halo, perkenalkan nama saya adalah Budi. Saya bersekolah di tadika Anjai. Yoga adalah seorang sepul.', 'stats': {'total_processing_time': 3.66998028755188, 'words_per_second': 27.25, 'file_size_in_bytes': 172365}, 'filename': 'audio2.mp3'}\n"
     ]
    }
   ],
   "source": [
    "import requests\n",
    "\n",
    "def test_transcription(endpoint, file_path, api_key):\n",
    "    url = f'http://localhost:8000{endpoint}'\n",
    "    files = {'file': open(file_path, 'rb')}\n",
    "    headers = {'x-api-key': api_key}\n",
    "\n",
    "    response = requests.post(url, files=files, headers=headers)\n",
    "    return response.json()\n",
    "\n",
    "# Replace 'your_file_path.mp3' with the path to your audio file\n",
    "file_path_eng = 'Arten_Multilingual/sounds/02 At The Campus.mp3'\n",
    "file_path_id = 'Arten_Multilingual/sounds/audio2.mp3'\n",
    "api_key = '00jhJ_YAsU90J3hpG-vNI1I9QBm_Voefj8NMcR-OEY8'\n",
    "\n",
    "# Test English transcription\n",
    "print(\"Testing English transcription:\")\n",
    "eng_response = test_transcription('/eng/transcribe', file_path_eng, api_key)\n",
    "print(eng_response)\n",
    "\n",
    "# Test Indonesian transcription\n",
    "print(\"\\nTesting Indonesian transcription:\")\n",
    "indo_response = test_transcription('/id/transcribe', file_path_id, api_key)\n",
    "print(indo_response)\n"
   ]
  }
 ],
 "metadata": {
  "kernelspec": {
   "display_name": "Python 3",
   "language": "python",
   "name": "python3"
  },
  "language_info": {
   "codemirror_mode": {
    "name": "ipython",
    "version": 3
   },
   "file_extension": ".py",
   "mimetype": "text/x-python",
   "name": "python",
   "nbconvert_exporter": "python",
   "pygments_lexer": "ipython3",
   "version": "3.8.19"
  },
  "orig_nbformat": 4
 },
 "nbformat": 4,
 "nbformat_minor": 2
}
